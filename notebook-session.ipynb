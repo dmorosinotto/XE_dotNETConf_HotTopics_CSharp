{
 "cells": [
  {
   "cell_type": "markdown",
   "metadata": {},
   "source": [
    "# Class\n",
    "Let's start with classic `class` you just know with __object initializer__ syntax"
   ]
  },
  {
   "cell_type": "code",
   "execution_count": 1,
   "metadata": {},
   "source": [
    "class Person {\n",
    "    public string FirstName {get; set;}     \n",
    "    public string LastName {get; set;}     \n",
    "}\n",
    "\n",
    "\n",
    "static void DisplayPerson(Person p) {\n",
    "    Console.WriteLine($\"{p.FirstName} {p.LastName}\");\n",
    "}\n",
    "\n",
    "//YOU CAN USE OBJECT-INITIALIZER SYNTAX\n",
    "var p = new Person {\n",
    "    FirstName = \"Pippo\",\n",
    "    LastName = \"Pluto\"\n",
    "};\n",
    "DisplayPerson(p);\n",
    "//BUT YOU HAVE MOUTABLE (set) PROPERTIES\n",
    "p.LastName = \"Paperino\"; \n",
    "DisplayPerson(p);\n",
    ""
   ],
   "outputs": [
    {
     "output_type": "execute_result",
     "data": {
      "text/plain": "Pippo Pluto\n"
     },
     "execution_count": 1,
     "metadata": {}
    },
    {
     "output_type": "execute_result",
     "data": {
      "text/plain": "Pippo Paperino\n"
     },
     "execution_count": 1,
     "metadata": {}
    }
   ]
  },
  {
   "cell_type": "markdown",
   "metadata": {},
   "source": [
    "# Init-only properties\n",
    "Let's make object \"immutable\" to __disable mutation__ of properties after _object initializer_"
   ]
  },
  {
   "cell_type": "code",
   "execution_count": 1,
   "metadata": {},
   "source": [
    "class Person {\n",
    "    public string FirstName {get; init;}     \n",
    "    public string LastName {get; init;}     \n",
    "}\n",
    "\n",
    "\n",
    "static void DisplayPerson(Person p) {\n",
    "    Console.WriteLine($\"{p.FirstName} {p.LastName}\");\n",
    "}\n",
    "\n",
    "//YOU CAN USE OBJECT-INITIALIZER SYNTAX\n",
    "var p = new Person {\n",
    "    FirstName = \"Pippo\",\n",
    "    LastName = \"Pluto\"\n",
    "};\n",
    "DisplayPerson(p);\n",
    "//BUT YOU HAVE MOUTABLE (set) PROPERTIES\n",
    "p.LastName = \"Paperino\"; //ERROR <- THIS IS NOT ALLOWED WITH init-props\n",
    "DisplayPerson(p);\n",
    ""
   ],
   "outputs": []
  },
  {
   "cell_type": "code",
   "execution_count": 1,
   "metadata": {},
   "source": [
    "using System;\n",
    "\n",
    "record Person(string FirstName, string LastName);\n",
    "\n",
    "var p = new Person(\"Zio\",\"Paperone\");\n",
    "var o = p with { LastName = \"Paperino\" };\n",
    "Console.WriteLine($\"{p} - {o}\");\n",
    "Console.WriteLine($\"EQ={o==p} - Equal={Equal(p,o)} - ReferenceEqual={ReferenceEqual(p,o)}\");"
   ],
   "outputs": []
  }
 ],
 "metadata": {
  "kernelspec": {
   "display_name": ".NET (C#)",
   "language": "C#",
   "name": ".net-csharp"
  },
  "language_info": {
   "file_extension": ".cs",
   "mimetype": "text/x-csharp",
   "name": "C#",
   "pygments_lexer": "csharp",
   "version": "8.0"
  }
 },
 "nbformat": 4,
 "nbformat_minor": 4
}